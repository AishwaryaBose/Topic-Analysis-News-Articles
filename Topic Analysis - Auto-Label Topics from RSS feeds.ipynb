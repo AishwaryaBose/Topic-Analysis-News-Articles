{
 "cells": [
  {
   "cell_type": "code",
   "execution_count": 2,
   "metadata": {},
   "outputs": [],
   "source": [
    "#import all the required libraries\n",
    "from __future__ import print_function\n",
    "import numpy as np\n",
    "import matplotlib.pyplot as plt\n",
    "import keras\n",
    "#import keras's Reuters Neswire Classification Dataset\n",
    "from keras.datasets import reuters\n",
    "from keras.models import Sequential\n",
    "from keras.layers import Dense, Dropout, Activation\n",
    "from keras.preprocessing.text import Tokenizer\n",
    "\n",
    "# Packages for modeling\n",
    "from keras import models\n",
    "from keras import layers\n",
    "from keras import regularizers"
   ]
  },
  {
   "cell_type": "markdown",
   "metadata": {},
   "source": [
    "Then we set some parameters that will be used throughout the notebook. The batch size is the number of samples processed before the model is updated. The number of epochs is the number of complete passes (iteration) through the training dataset"
   ]
  },
  {
   "cell_type": "code",
   "execution_count": 3,
   "metadata": {},
   "outputs": [],
   "source": [
    "max_words = 10000  # Parameter indicating the number of words we'll put in the dictionary to create word vector\n",
    "batch_size = 64  # Size of the batches used in the mini-batch gradient descent\n",
    "epochs = 5  # Number of epochs we usually start to train with"
   ]
  },
  {
   "cell_type": "markdown",
   "metadata": {},
   "source": [
    "Loading Reuters data from Keras"
   ]
  },
  {
   "cell_type": "code",
   "execution_count": 4,
   "metadata": {},
   "outputs": [],
   "source": [
    "(x_train, y_train), (x_test, y_test) = reuters.load_data(num_words=max_words,\n",
    "                                                         test_split=0.2)"
   ]
  },
  {
   "cell_type": "code",
   "execution_count": 5,
   "metadata": {},
   "outputs": [
    {
     "name": "stdout",
     "output_type": "stream",
     "text": [
      "length of x_train sequences 8982\n",
      "length of x_test sequences 2246\n"
     ]
    }
   ],
   "source": [
    "print('length of x_train sequences',len(x_train))\n",
    "print('length of x_test sequences',len(x_test))"
   ]
  },
  {
   "cell_type": "code",
   "execution_count": 6,
   "metadata": {},
   "outputs": [
    {
     "name": "stdout",
     "output_type": "stream",
     "text": [
      "46 classes\n"
     ]
    }
   ],
   "source": [
    "num_classes = np.max(y_train) + 1\n",
    "print(num_classes, 'classes')"
   ]
  },
  {
   "cell_type": "markdown",
   "metadata": {},
   "source": [
    "# DATA PREPARATION"
   ]
  },
  {
   "cell_type": "markdown",
   "metadata": {},
   "source": [
    "Vectorizing sequence data"
   ]
  },
  {
   "cell_type": "code",
   "execution_count": 7,
   "metadata": {},
   "outputs": [
    {
     "name": "stdout",
     "output_type": "stream",
     "text": [
      "x_train shape: (8982, 10000)\n",
      "x_test shape: (2246, 10000)\n"
     ]
    }
   ],
   "source": [
    "tokenizer = Tokenizer(num_words=max_words)\n",
    "x_train = tokenizer.sequences_to_matrix(x_train, mode='binary')\n",
    "x_test = tokenizer.sequences_to_matrix(x_test, mode='binary')\n",
    "print('x_train shape:', x_train.shape)\n",
    "print('x_test shape:', x_test.shape)"
   ]
  },
  {
   "cell_type": "markdown",
   "metadata": {},
   "source": [
    "Converting class vector to binary class matrix"
   ]
  },
  {
   "cell_type": "code",
   "execution_count": 8,
   "metadata": {},
   "outputs": [
    {
     "name": "stdout",
     "output_type": "stream",
     "text": [
      "y_train shape: (8982, 46)\n",
      "y_test shape: (2246, 46)\n"
     ]
    }
   ],
   "source": [
    "y_train = keras.utils.to_categorical(y_train, num_classes)\n",
    "y_test = keras.utils.to_categorical(y_test, num_classes)\n",
    "print('y_train shape:', y_train.shape)\n",
    "print('y_test shape:', y_test.shape)"
   ]
  },
  {
   "cell_type": "markdown",
   "metadata": {},
   "source": [
    "# DATA MODELLING"
   ]
  },
  {
   "cell_type": "markdown",
   "metadata": {},
   "source": [
    "Building Dense FNN Model"
   ]
  },
  {
   "cell_type": "code",
   "execution_count": 9,
   "metadata": {},
   "outputs": [
    {
     "name": "stdout",
     "output_type": "stream",
     "text": [
      "Model: \"sequential_1\"\n",
      "_________________________________________________________________\n",
      "Layer (type)                 Output Shape              Param #   \n",
      "=================================================================\n",
      "dense_1 (Dense)              (None, 64)                640064    \n",
      "_________________________________________________________________\n",
      "dense_2 (Dense)              (None, 64)                4160      \n",
      "_________________________________________________________________\n",
      "dense_3 (Dense)              (None, 46)                2990      \n",
      "=================================================================\n",
      "Total params: 647,214\n",
      "Trainable params: 647,214\n",
      "Non-trainable params: 0\n",
      "_________________________________________________________________\n"
     ]
    }
   ],
   "source": [
    "base_model = models.Sequential()\n",
    "base_model.add(layers.Dense(64, activation='relu', input_shape=(max_words,)))\n",
    "base_model.add(layers.Dense(64, activation='relu'))\n",
    "base_model.add(layers.Dense(num_classes, activation='softmax'))\n",
    "base_model.summary()"
   ]
  },
  {
   "cell_type": "code",
   "execution_count": 10,
   "metadata": {},
   "outputs": [
    {
     "name": "stdout",
     "output_type": "stream",
     "text": [
      "Train on 6287 samples, validate on 2695 samples\n",
      "Epoch 1/5\n",
      "6287/6287 [==============================] - 3s 530us/step - loss: 1.9380 - accuracy: 0.5922 - val_loss: 1.2050 - val_accuracy: 0.7280\n",
      "Epoch 2/5\n",
      "6287/6287 [==============================] - 3s 419us/step - loss: 0.8957 - accuracy: 0.7994 - val_loss: 0.9788 - val_accuracy: 0.7859\n",
      "Epoch 3/5\n",
      "6287/6287 [==============================] - 3s 417us/step - loss: 0.4943 - accuracy: 0.8918 - val_loss: 0.9036 - val_accuracy: 0.7959\n",
      "Epoch 4/5\n",
      "6287/6287 [==============================] - 3s 419us/step - loss: 0.3037 - accuracy: 0.9383 - val_loss: 0.8940 - val_accuracy: 0.8108\n",
      "Epoch 5/5\n",
      "6287/6287 [==============================] - 3s 416us/step - loss: 0.2009 - accuracy: 0.9564 - val_loss: 0.9346 - val_accuracy: 0.8000\n"
     ]
    }
   ],
   "source": [
    "def deep_model(model):\n",
    "    model.compile(optimizer='adam'\n",
    "                  , loss='categorical_crossentropy'\n",
    "                  , metrics=['accuracy'])\n",
    "    \n",
    "    history = model.fit(x_train\n",
    "                       , y_train\n",
    "                       , epochs=epochs\n",
    "                       , batch_size=batch_size\n",
    "                       , validation_split=0.3\n",
    "                       , verbose=1)\n",
    "    \n",
    "    return history\n",
    "\n",
    "base_history = deep_model(base_model)"
   ]
  },
  {
   "cell_type": "markdown",
   "metadata": {},
   "source": [
    "As the no of epochs (iterations), the train loss decreases and remains almost stagnant for the validation set.  The same thing occurs for the accuracy, which increases for the training set but remain stagnant for the validation set. This is a symptom of over-fitting."
   ]
  },
  {
   "cell_type": "code",
   "execution_count": 11,
   "metadata": {},
   "outputs": [
    {
     "data": {
      "image/png": "[encoded data removed]",
      "text/plain": [
       "<Figure size 432x288 with 1 Axes>"
      ]
     },
     "metadata": {
      "needs_background": "light"
     },
     "output_type": "display_data"
    },
    {
     "data": {
      "image/png": "[encoded data removed]",
      "text/plain": [
       "<Figure size 432x288 with 1 Axes>"
      ]
     },
     "metadata": {
      "needs_background": "light"
     },
     "output_type": "display_data"
    }
   ],
   "source": [
    "def eval_metric(history, metric_name):\n",
    "    metric = history.history[metric_name]\n",
    "    val_metric = history.history['val_' + metric_name]\n",
    "\n",
    "    e = range(1, epochs + 1)\n",
    "\n",
    "    plt.plot(e, metric, 'bo', label='Train ' + metric_name)\n",
    "    plt.plot(e, val_metric, 'b', label='Validation ' + metric_name)\n",
    "    plt.legend()\n",
    "    plt.show()\n",
    "    \n",
    "eval_metric(base_history, 'loss')\n",
    "eval_metric(base_history, 'accuracy')"
   ]
  },
  {
   "cell_type": "markdown",
   "metadata": {},
   "source": [
    "Now, we remove one hidden layer and also decrease the no of neurons from 64 to 32. This will hopefully reduce over-fitting"
   ]
  },
  {
   "cell_type": "code",
   "execution_count": 32,
   "metadata": {},
   "outputs": [
    {
     "name": "stdout",
     "output_type": "stream",
     "text": [
      "Model: \"sequential_7\"\n",
      "_________________________________________________________________\n",
      "Layer (type)                 Output Shape              Param #   \n",
      "=================================================================\n",
      "dense_18 (Dense)             (None, 32)                320032    \n",
      "_________________________________________________________________\n",
      "dense_19 (Dense)             (None, 46)                1518      \n",
      "=================================================================\n",
      "Total params: 321,550\n",
      "Trainable params: 321,550\n",
      "Non-trainable params: 0\n",
      "_________________________________________________________________\n",
      "Train on 6287 samples, validate on 2695 samples\n",
      "Epoch 1/5\n",
      "6287/6287 [==============================] - 4s 559us/step - loss: 2.3158 - accuracy: 0.5717 - val_loss: 1.4419 - val_accuracy: 0.7043\n",
      "Epoch 2/5\n",
      "6287/6287 [==============================] - 2s 319us/step - loss: 1.1203 - accuracy: 0.7655 - val_loss: 1.1016 - val_accuracy: 0.7655\n",
      "Epoch 3/5\n",
      "6287/6287 [==============================] - 2s 276us/step - loss: 0.7496 - accuracy: 0.8459 - val_loss: 0.9672 - val_accuracy: 0.7933\n",
      "Epoch 4/5\n",
      "6287/6287 [==============================] - 2s 311us/step - loss: 0.5255 - accuracy: 0.8984 - val_loss: 0.9114 - val_accuracy: 0.7985\n",
      "Epoch 5/5\n",
      "6287/6287 [==============================] - 2s 289us/step - loss: 0.3827 - accuracy: 0.9252 - val_loss: 0.8731 - val_accuracy: 0.8063\n"
     ]
    }
   ],
   "source": [
    "reduced_model = models.Sequential()\n",
    "reduced_model.add(layers.Dense(32, activation='relu', input_shape=(max_words,)))\n",
    "reduced_model.add(layers.Dense(num_classes, activation='softmax'))\n",
    "reduced_model.summary()\n",
    "\n",
    "reduced_history = deep_model(reduced_model)"
   ]
  },
  {
   "cell_type": "markdown",
   "metadata": {},
   "source": [
    "### Less over-fitting with reduced model\n",
    "Here we can see that the baseline model sees increasing losses while the reduced model (with fewer neurons and one hidden layer less) loss does not increase even with increasing epochs."
   ]
  },
  {
   "cell_type": "code",
   "execution_count": 33,
   "metadata": {},
   "outputs": [
    {
     "data": {
      "image/png": "[encoded data removed]",
      "text/plain": [
       "<Figure size 432x288 with 1 Axes>"
      ]
     },
     "metadata": {
      "needs_background": "light"
     },
     "output_type": "display_data"
    }
   ],
   "source": [
    "def compare_loss_with_baseline(h, model_name):\n",
    "    loss_base_model = base_history.history['val_loss']\n",
    "    loss_model = h.history['val_loss']\n",
    "\n",
    "    e = range(1, epochs + 1)\n",
    "\n",
    "    plt.plot(e, loss_base_model, 'bo', label='Validation Loss Baseline Model')\n",
    "    plt.plot(e, loss_model, 'b', label='Validation Loss ' + model_name)\n",
    "    plt.legend()\n",
    "    plt.show()\n",
    "    \n",
    "compare_loss_with_baseline(reduced_history, 'Reduced Model')"
   ]
  },
  {
   "cell_type": "markdown",
   "metadata": {},
   "source": [
    "### Reducing over-fitting by dropping\n",
    "Another way to reduce over-fitting is by randomly dropping data-sets for training. In this case, an additional hidden layer is used to drop some of the intermediate training data. As observed below, the validation loss for dropout model is slightly lesser than the baseline model."
   ]
  },
  {
   "cell_type": "code",
   "execution_count": 16,
   "metadata": {},
   "outputs": [
    {
     "name": "stdout",
     "output_type": "stream",
     "text": [
      "Model: \"sequential_5\"\n",
      "_________________________________________________________________\n",
      "Layer (type)                 Output Shape              Param #   \n",
      "=================================================================\n",
      "dense_13 (Dense)             (None, 512)               5120512   \n",
      "_________________________________________________________________\n",
      "dropout_7 (Dropout)          (None, 512)               0         \n",
      "_________________________________________________________________\n",
      "dense_14 (Dense)             (None, 64)                32832     \n",
      "_________________________________________________________________\n",
      "dropout_8 (Dropout)          (None, 64)                0         \n",
      "_________________________________________________________________\n",
      "dense_15 (Dense)             (None, 46)                2990      \n",
      "=================================================================\n",
      "Total params: 5,156,334\n",
      "Trainable params: 5,156,334\n",
      "Non-trainable params: 0\n",
      "_________________________________________________________________\n",
      "Train on 6287 samples, validate on 2695 samples\n",
      "Epoch 1/5\n",
      "6287/6287 [==============================] - 11s 2ms/step - loss: 1.9873 - accuracy: 0.5534 - val_loss: 1.2529 - val_accuracy: 0.7143\n",
      "Epoch 2/5\n",
      "6287/6287 [==============================] - 10s 2ms/step - loss: 1.1717 - accuracy: 0.7310 - val_loss: 1.0449 - val_accuracy: 0.7618\n",
      "Epoch 3/5\n",
      "6287/6287 [==============================] - 10s 2ms/step - loss: 0.8427 - accuracy: 0.7966 - val_loss: 0.9495 - val_accuracy: 0.7967\n",
      "Epoch 4/5\n",
      "6287/6287 [==============================] - 10s 2ms/step - loss: 0.6563 - accuracy: 0.8387 - val_loss: 0.9140 - val_accuracy: 0.8096\n",
      "Epoch 5/5\n",
      "6287/6287 [==============================] - 10s 2ms/step - loss: 0.5118 - accuracy: 0.8794 - val_loss: 0.9098 - val_accuracy: 0.8074\n"
     ]
    },
    {
     "data": {
      "image/png": "[encoded data removed]",
      "text/plain": [
       "<Figure size 432x288 with 1 Axes>"
      ]
     },
     "metadata": {
      "needs_background": "light"
     },
     "output_type": "display_data"
    }
   ],
   "source": [
    "drop_model = models.Sequential()\n",
    "drop_model.add(layers.Dense(512, activation='relu', input_shape=(max_words,)))\n",
    "drop_model.add(layers.Dropout(0.5))\n",
    "drop_model.add(layers.Dense(64, activation='relu'))\n",
    "drop_model.add(layers.Dropout(0.5))\n",
    "drop_model.add(layers.Dense(num_classes, activation='softmax'))\n",
    "drop_model.summary()\n",
    "\n",
    "drop_history = deep_model(drop_model)\n",
    "\n",
    "def compare_loss_with_baseline(h, model_name):\n",
    "    loss_base_model = base_history.history['val_loss']\n",
    "    loss_model = h.history['val_loss']\n",
    "\n",
    "    e = range(1, epochs + 1)\n",
    "\n",
    "    plt.plot(e, loss_base_model, 'bo', label='Validation Loss Baseline Model')\n",
    "    plt.plot(e, loss_model, 'b', label='Validation Loss ' + model_name)\n",
    "    plt.legend()\n",
    "    plt.show()\n",
    "\n",
    "\n",
    "compare_loss_with_baseline(drop_history, 'Dropout Model')"
   ]
  },
  {
   "cell_type": "code",
   "execution_count": 22,
   "metadata": {},
   "outputs": [
    {
     "name": "stdout",
     "output_type": "stream",
     "text": [
      "2246/2246 [==============================] - 1s 320us/step\n",
      "Test loss: 1.001180202113871\n",
      "Test accuracy: 0.7978628873825073\n"
     ]
    }
   ],
   "source": [
    "score = base_model.evaluate(x_test, y_test,\n",
    "                       batch_size=batch_size, verbose=1)\n",
    "\n",
    "print('Test loss:', score[0])\n",
    "print('Test accuracy:', score[1])"
   ]
  },
  {
   "cell_type": "code",
   "execution_count": 23,
   "metadata": {},
   "outputs": [
    {
     "name": "stdout",
     "output_type": "stream",
     "text": [
      "2246/2246 [==============================] - 1s 276us/step\n",
      "Test loss: 1.0922101104461182\n",
      "Test accuracy: 0.8107746839523315\n"
     ]
    }
   ],
   "source": [
    "score = drop_model.evaluate(x_test, y_test,\n",
    "                       batch_size=batch_size, verbose=1)\n",
    "\n",
    "print('Test loss:', score[0])\n",
    "print('Test accuracy:', score[1])"
   ]
  },
  {
   "cell_type": "code",
   "execution_count": 34,
   "metadata": {},
   "outputs": [
    {
     "name": "stdout",
     "output_type": "stream",
     "text": [
      "2246/2246 [==============================] - 1s 317us/step\n",
      "Test loss: 0.9066880392582418\n",
      "Test accuracy: 0.7943009734153748\n"
     ]
    }
   ],
   "source": [
    "score = reduced_model.evaluate(x_test, y_test,\n",
    "                       batch_size=batch_size, verbose=1)\n",
    "\n",
    "print('Test loss:', score[0])\n",
    "print('Test accuracy:', score[1])"
   ]
  },
  {
   "cell_type": "markdown",
   "metadata": {},
   "source": [
    "### Validate the model with live data from RSS feeds"
   ]
  },
  {
   "cell_type": "code",
   "execution_count": 24,
   "metadata": {},
   "outputs": [
    {
     "name": "stderr",
     "output_type": "stream",
     "text": [
      "[nltk_data] Downloading package punkt to\n",
      "[nltk_data]     C:\\Users\\AishwaryaBose\\AppData\\Roaming\\nltk_data...\n",
      "[nltk_data]   Package punkt is already up-to-date!\n"
     ]
    },
    {
     "data": {
      "text/plain": [
       "True"
      ]
     },
     "execution_count": 24,
     "metadata": {},
     "output_type": "execute_result"
    }
   ],
   "source": [
    "import nltk\n",
    "nltk.download('punkt')"
   ]
  },
  {
   "cell_type": "code",
   "execution_count": 25,
   "metadata": {},
   "outputs": [],
   "source": [
    "# Import RSS feeds \n",
    "\n",
    "import feedparser\n",
    "\n",
    "#r_feeds = feedparser.parse('http://feeds.bbci.co.uk/news/world/rss.xml')\n",
    "#r_feeds = feedparser.parse('http://feeds.reuters.com/Reuters/worldNews')\n",
    "#r_feeds = feedparser.parse('http://feeds.feedburner.com/CommodityBlog')\n",
    "#r_feeds = feedparser.parse('http://www.tradingfloor.com/commodities/rss/extract')\n",
    "#r_feeds = feedparser.parse('https://news.google.com/rss?x=1571747689.2745&hl=en-IN&gl=IN&ceid=IN:en')\n",
    "r_feeds = feedparser.parse('https://oilprice.com/rss/main')"
   ]
  },
  {
   "cell_type": "code",
   "execution_count": 26,
   "metadata": {},
   "outputs": [],
   "source": [
    "news_titiles = []\n",
    "\n",
    "for feed in r_feeds['entries']:\n",
    "    news_titiles.append((feed['title'])) "
   ]
  },
  {
   "cell_type": "code",
   "execution_count": 27,
   "metadata": {},
   "outputs": [],
   "source": [
    "from nltk import word_tokenize\n",
    "from keras.preprocessing import sequence\n",
    "\n",
    "WordIndex = reuters.get_word_index(path=\"reuters_word_index.json\")\n",
    "\n",
    "IndexToWord = {}\n",
    "for key, value in WordIndex.items():\n",
    "    IndexToWord[value] = keymax_review_length = 2000"
   ]
  },
  {
   "cell_type": "markdown",
   "metadata": {},
   "source": [
    "As drop model gives us a better accuracy, we use that model to predict the topics for the live RSS feed news headlines"
   ]
  },
  {
   "cell_type": "code",
   "execution_count": 30,
   "metadata": {},
   "outputs": [
    {
     "name": "stdout",
     "output_type": "stream",
     "text": [
      "The Stage Is Set For Oil Price Volatility On November 18th\n",
      "Class :3\n",
      "The Most Important Data Point In U.S. Oil Markets\n",
      "Class :4\n",
      "Harvesting Human Electricity Gains Commercial Traction\n",
      "Class :3\n",
      "Fed Warns Climate Change Is Biggest Threat To The U.S. Economy\n",
      "Class :9\n",
      "Why 2020 Could Be A Crisis Year For Refiners\n",
      "Class :4\n",
      "The Infinite Possibilities Of Interstellar Energy\n",
      "Class :3\n",
      "OPEC Oil Output Jumps From Decade Low\n",
      "Class :3\n",
      "Saudi Arabia’s Newest Tactic To Hush Dissidents\n",
      "Class :3\n",
      "Has Global Oil Production Really Peaked?\n",
      "Class :16\n",
      "Saudi Arabia's Final Attempt To Boost Aramco's Valuation\n",
      "Class :4\n",
      "Why Carl Icahn Dumped $400 Million In Occidental Petroleum Stock\n",
      "Class :4\n",
      "The World’s Biggest EV Market Braces For Another Crippling Blow\n",
      "Class :4\n",
      "Alberta Throws Canadian Drillers A Lifeline\n",
      "Class :3\n",
      "Oil Stuck In Limbo As Trade Talks Fail To Inspire\n",
      "Class :4\n",
      "Japanese Investors Likely To Snub Saudi Aramco’s IPO\n",
      "Class :4\n"
     ]
    }
   ],
   "source": [
    "word2index = WordIndex\n",
    "\n",
    "titles = news_titiles\n",
    "\n",
    "for t in titles: \n",
    "  newX=[]\n",
    "  for word in word_tokenize(t.lower()):\n",
    "    if word in word2index:\n",
    "      newX.append(word2index[word])\n",
    "  try_me=sequence.pad_sequences([newX],maxlen=max_review_length)\n",
    "  ts = drop_model.predict_classes(try_me)[0]\n",
    "  print (t)\n",
    "  print (\"Class :\" + str(ts))"
   ]
  }
 ],
 "metadata": {
  "kernelspec": {
   "display_name": "Python 3",
   "language": "python",
   "name": "python3"
  },
  "language_info": {
   "codemirror_mode": {
    "name": "ipython",
    "version": 3
   },
   "file_extension": ".py",
   "mimetype": "text/x-python",
   "name": "python",
   "nbconvert_exporter": "python",
   "pygments_lexer": "ipython3",
   "version": "3.7.3"
  }
 },
 "nbformat": 4,
 "nbformat_minor": 2
}
